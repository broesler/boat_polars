{
 "cells": [
  {
   "cell_type": "markdown",
   "id": "861ecce6-09b7-40f4-93b2-c023d1afdabf",
   "metadata": {},
   "source": [
    "\n",
    "Description: Plot polars and minimize time to travel for a given TWA/TWS.\n",
    "\n",
    "Get polars CSV from here: <https://jieter.github.io/orc-data/site/>\n"
   ]
  },
  {
   "cell_type": "code",
   "execution_count": 1,
   "id": "d8e53e1d-8c3c-487a-9852-df614c988d89",
   "metadata": {},
   "outputs": [],
   "source": [
    "import matplotlib.pyplot as plt\n",
    "import numpy as np\n",
    "import pandas as pd\n",
    "\n",
    "from pathlib import Path\n",
    "from scipy.interpolate import interp1d\n",
    "from scipy.optimize import minimize\n",
    "\n",
    "%matplotlib inline\n",
    "\n",
    "π = np.pi\n",
    "\n",
    "# Choose constants\n",
    "L = 10          # [nm] distance to end point\n",
    "α = 120 * π/180  # [rad] true wind angle\n",
    "TWS = '12'      # [kts] true wind speed"
   ]
  },
  {
   "cell_type": "code",
   "execution_count": 2,
   "id": "49208b16-ee26-4e14-b10c-a4ae25746927",
   "metadata": {},
   "outputs": [
    {
     "name": "stdout",
     "output_type": "stream",
     "text": [
      "TWS           6      8     10     12     14     16     20  TWA_deg\n",
      "TWA_rad                                                           \n",
      "0.000000    NaN    NaN    NaN    NaN    NaN    NaN    NaN      NaN\n",
      "0.621337    NaN    NaN    NaN    NaN    NaN    NaN  10.34     35.6\n",
      "0.628319    NaN    NaN    NaN    NaN    NaN  10.20    NaN     36.0\n",
      "0.642281    NaN    NaN    NaN    NaN  10.02    NaN    NaN     36.8\n",
      "0.666716    NaN    NaN    NaN   9.85    NaN    NaN    NaN     38.2\n",
      "0.694641    NaN    NaN   9.58    NaN    NaN    NaN    NaN     39.8\n",
      "0.733038    NaN   9.08    NaN    NaN    NaN    NaN    NaN     42.0\n",
      "0.771436   7.95    NaN    NaN    NaN    NaN    NaN    NaN     44.2\n",
      "0.907571   8.88  10.15  10.68  11.01  11.30  11.64  12.08     52.0\n",
      "1.047198   9.58  10.61  11.11  11.57  11.95  12.25  12.88     60.0\n",
      "1.308997  10.18  11.19  11.94  12.56  13.05  13.46  14.32     75.0\n",
      "1.570796  10.23  11.38  12.57  13.31  13.97  14.49  15.34     90.0\n",
      "1.919862   9.58  10.78  11.84  13.12  14.46  15.46  17.28    110.0\n",
      "2.094395   8.62  10.36  11.48  12.48  13.81  14.88  17.51    120.0\n",
      "2.356194   7.48   9.63  10.93  12.61  13.62  14.75  17.16    135.0\n",
      "2.452188    NaN   9.10    NaN    NaN    NaN    NaN    NaN    140.5\n",
      "2.460914   6.95    NaN    NaN    NaN    NaN    NaN    NaN    141.0\n",
      "2.499311    NaN    NaN    NaN    NaN    NaN  14.17    NaN    143.2\n",
      "2.534218    NaN    NaN    NaN    NaN    NaN    NaN  17.43    145.2\n",
      "2.539454    NaN    NaN    NaN    NaN  12.33    NaN    NaN    145.5\n",
      "2.549926    NaN    NaN  10.04    NaN    NaN    NaN    NaN    146.1\n",
      "2.617994   6.24   8.10   9.62  10.81  11.73  13.11  16.52    150.0\n",
      "2.635447    NaN    NaN    NaN  10.56    NaN    NaN    NaN    151.0\n"
     ]
    }
   ],
   "source": [
    "datafile = Path('./prospector.csv')\n",
    "df = pd.read_csv(datafile, delimiter=';')\n",
    "df = (df.rename({'twa/tws':'TWA'}, axis=1)\n",
    "        .assign(TWA_deg=lambda x: x['TWA'],\n",
    "                TWA_rad=lambda x: x['TWA_deg'] * π/180)\n",
    "        .set_index('TWA_rad')\n",
    "        .drop('TWA', axis=1)\n",
    "        .sort_index()\n",
    "        .replace(0, np.nan)\n",
    "        )\n",
    "df.columns.name = 'TWS'\n",
    "\n",
    "print(df)"
   ]
  },
  {
   "cell_type": "code",
   "execution_count": 3,
   "id": "e53f5075-5e1d-4779-ab12-47513bb13fc0",
   "metadata": {},
   "outputs": [
    {
     "data": {
      "text/plain": [
       "<matplotlib.legend.Legend at 0x7fd4e49385b0>"
      ]
     },
     "execution_count": 3,
     "metadata": {},
     "output_type": "execute_result"
    },
    {
     "data": {
      "image/png": "[encoded data removed]",
      "text/plain": [
       "<Figure size 432x288 with 1 Axes>"
      ]
     },
     "metadata": {
      "needs_background": "light"
     },
     "output_type": "display_data"
    }
   ],
   "source": [
    "assert TWS in df.columns\n",
    "\n",
    "# Fit a spline to the data\n",
    "tf = df[TWS].dropna()\n",
    "tf.at[0] = 0\n",
    "tf.at[π] = 0\n",
    "\n",
    "θ = np.linspace(tf.index.min(), tf.index.max())\n",
    "V = interp1d(tf.index, tf, kind='cubic')\n",
    "\n",
    "# Plot the data and spline fit\n",
    "fig = plt.figure(1, clear=True, constrained_layout=True)\n",
    "ax = fig.add_subplot()\n",
    "\n",
    "ax.plot((θ - α) * 180/π, V(θ), 'C0-', zorder=1)  # line behind data\n",
    "ax.plot((tf.index - α) * 180/π, tf.values, 'C0x', label=rf\"U = {TWS}\")\n",
    "\n",
    "ax.set(xlabel='Relative wind angle [deg]',\n",
    "       ylabel='Velocity [kts]')\n",
    "ax.grid(True)\n",
    "ax.legend()\n"
   ]
  },
  {
   "cell_type": "code",
   "execution_count": 4,
   "id": "7f8091e8-20bc-4a1a-875a-8ea54db256e7",
   "metadata": {},
   "outputs": [
    {
     "name": "stdout",
     "output_type": "stream",
     "text": [
      "Average speed is 0.77 [kts] greater than straight-line.\n",
      "Time is -0.03 [hr] faster than straight-line.\n"
     ]
    }
   ],
   "source": [
    "class TrianglePath():\n",
    "    \"\"\"The triangle path object.\"\"\"\n",
    "\n",
    "    def __init__(self, θ, d, α=0, V=V, L=L):\n",
    "        \"\"\"\n",
    "        Parameters\n",
    "        ----------\n",
    "        θ : float\n",
    "            Starting angle.\n",
    "        d : float\n",
    "            Distance along starting angle. Must be ≤ L.\n",
    "        α : float\n",
    "            The true wind angle.\n",
    "        V : callable, optional\n",
    "            Velocity as a function of `θ`.\n",
    "        \"\"\"\n",
    "        self.θ = θ\n",
    "        self.d = d\n",
    "        self.α = α\n",
    "        self.V = V\n",
    "        self.d_1 = (d**2 + L**2 - 2*d*L*np.cos(θ))**0.5  # law of cosines\n",
    "        self.θ_1 = np.arccos((L - d*np.cos(θ)) / self.d_1)\n",
    "\n",
    "    @property\n",
    "    def total_distance(self):\n",
    "        return self.d + self.d_1\n",
    "\n",
    "    @property\n",
    "    def time_0(self):\n",
    "        return self.d / self.V(self.α - self.θ) \n",
    "\n",
    "    @property\n",
    "    def time_1(self):\n",
    "        return self.d_1 / self.V(self.α - self.θ_1) \n",
    "\n",
    "    @property\n",
    "    def total_time(self):\n",
    "        return self.time_0 + self.time_1\n",
    "\n",
    "    @property\n",
    "    def average_velocity(self):\n",
    "        return self.total_distance / self.total_time\n",
    "\n",
    "    # TODO define get/set methods to keep all consistent\n",
    "\n",
    "\n",
    "# Define the objective function separately for fast evaluation\n",
    "# TODO add cost of tack/gybe (function of turning angle?)\n",
    "def time_to_point(θ, d, α=0, V=V, L=L):\n",
    "    \"\"\"Compute the time to traverse the triangle.\n",
    "\n",
    "    Parameters\n",
    "    ----------\n",
    "    θ : float\n",
    "        Starting angle.\n",
    "    d : float\n",
    "        Distance along starting angle. Must be ≤ L.\n",
    "    α : float\n",
    "        The true wind angle.\n",
    "    V : callable, optional\n",
    "        Velocity as a function of `θ`.\n",
    "\n",
    "    Returns\n",
    "    -------\n",
    "    time : float\n",
    "        The time in [hr] to traverse the edges of the triangle.\n",
    "    \"\"\"\n",
    "    d_1 = (d**2 + L**2 - 2*d*L*np.cos(θ))**0.5  # law of cosines\n",
    "    θ_1 = np.arccos((L - d*np.cos(θ)) / d_1)\n",
    "    return d / V(α - θ) + d_1 / V(α - θ_1)\n",
    "\n",
    "\n",
    "# Compute the angle and initial leg length for minimum time\n",
    "res = minimize(lambda x: time_to_point(*x, α=α, V=V, L=L),\n",
    "               x0=np.r_[1, 1],\n",
    "               bounds=((0, π/2), (0, L)),\n",
    "               )\n",
    "\n",
    "# Compute the remaining parameters for convenience\n",
    "tp = TrianglePath(*res.x, α=α, L=L, V=V)\n",
    "\n",
    "print(f\"Average speed is {tp.average_velocity - V(α):.2f} [kts] greater than straight-line.\")\n",
    "print(f\"Time is {tp.total_time - L/V(α):.2f} [hr] faster than straight-line.\")\n"
   ]
  },
  {
   "cell_type": "code",
   "execution_count": 5,
   "id": "c03d6eeb-2e6a-4ee5-ba5a-78f47b9f0541",
   "metadata": {},
   "outputs": [
    {
     "data": {
      "image/png": "[encoded data removed]",
      "text/plain": [
       "<Figure size 432x288 with 1 Axes>"
      ]
     },
     "execution_count": 5,
     "metadata": {},
     "output_type": "execute_result"
    }
   ],
   "source": [
    "\n",
    "# Plot the two leg velocities\n",
    "ax.axvline(0, c='C3', ls='--', lw=1)\n",
    "ax.scatter(tp.θ * 180/π, V(α + tp.θ), c='C3', marker='o')\n",
    "ax.scatter(-tp.θ_1 * 180/π, V(α - tp.θ_1), c='C3', marker='o')\n",
    "\n",
    "fig"
   ]
  }
 ],
 "metadata": {
  "kernelspec": {
   "display_name": "Python 3 (ipykernel)",
   "language": "python",
   "name": "python3"
  },
  "language_info": {
   "codemirror_mode": {
    "name": "ipython",
    "version": 3
   },
   "file_extension": ".py",
   "mimetype": "text/x-python",
   "name": "python",
   "nbconvert_exporter": "python",
   "pygments_lexer": "ipython3",
   "version": "3.8.13"
  }
 },
 "nbformat": 4,
 "nbformat_minor": 5
}
